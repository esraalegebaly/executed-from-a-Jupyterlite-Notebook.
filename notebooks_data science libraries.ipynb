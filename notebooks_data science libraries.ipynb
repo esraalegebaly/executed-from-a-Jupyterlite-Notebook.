{
  "metadata": {
    "language_info": {
      "codemirror_mode": {
        "name": "python",
        "version": 3
      },
      "file_extension": ".py",
      "mimetype": "text/x-python",
      "name": "python",
      "nbconvert_exporter": "python",
      "pygments_lexer": "ipython3",
      "version": "3.8"
    },
    "kernelspec": {
      "name": "python",
      "display_name": "Python (Pyodide)",
      "language": "python"
    }
  },
  "nbformat_minor": 4,
  "nbformat": 4,
  "cells": [
    {
      "cell_type": "markdown",
      "source": "## Data Science Libraries in Python\n\n1. **NumPy:** Fundamental package for scientific computing with support for large, multi-dimensional arrays and matrices.\n\n2. **Pandas:** Data manipulation and analysis library, providing data structures like DataFrames for efficient data handling.\n\n3. **Matplotlib:** 2D plotting library for creating static, interactive, and animated visualizations in Python.\n\n4. **Seaborn:** Built on top of Matplotlib, Seaborn provides a high-level interface for statistical data visualization.\n\n5. **scikit-learn:** Simple and efficient tools for data mining and data analysis, particularly focused on machine learning.\n\n6. **TensorFlow:** Open-source machine learning framework developed by Google for building and training neural networks.\n\n7. **PyTorch:** Deep learning library known for its dynamic computational graph and ease of use in building neural networks.\n\n8. **Keras:** High-level neural networks API that can run on top of TensorFlow or other libraries.\n\n9. **NLTK (Natural Language Toolkit):** Library for working with human language data, particularly for natural language processing tasks.\n\n10. **Statsmodels:** Library for estimating and testing statistical models.\n\nThese libraries form a powerful ecosystem that facilitates various aspects of data science, from data manipulation and visualization to machine learning and deep learning.\n",
      "metadata": {}
    }
  ]
}