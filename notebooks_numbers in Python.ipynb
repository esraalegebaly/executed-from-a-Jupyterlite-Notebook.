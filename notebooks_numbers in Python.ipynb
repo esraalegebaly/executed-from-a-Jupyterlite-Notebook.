{
  "metadata": {
    "language_info": {
      "codemirror_mode": {
        "name": "python",
        "version": 3
      },
      "file_extension": ".py",
      "mimetype": "text/x-python",
      "name": "python",
      "nbconvert_exporter": "python",
      "pygments_lexer": "ipython3",
      "version": "3.8"
    },
    "kernelspec": {
      "name": "python",
      "display_name": "Python (Pyodide)",
      "language": "python"
    }
  },
  "nbformat_minor": 4,
  "nbformat": 4,
  "cells": [
    {
      "cell_type": "markdown",
      "source": "# Multiply two numbers\nnum1 = 5\nnum2 = 10\nresult_multiply = num1 * num2\nprint(f\"Multiplication Result: {result_multiply}\")\n\n# Add two numbers\nnum3 = 8\nnum4 = 3\nresult_add = num3 + num4\nprint(f\"Addition Result: {result_add}\")\n",
      "metadata": {}
    }
  ]
}